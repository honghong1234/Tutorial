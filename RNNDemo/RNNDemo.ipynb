{
 "cells": [
  {
   "cell_type": "code",
   "execution_count": 43,
   "metadata": {},
   "outputs": [
    {
     "name": "stdout",
     "output_type": "stream",
     "text": [
      "(60000, 28, 28) (60000, 10) (10000, 28, 28) (10000, 10)\n"
     ]
    },
    {
     "data": {
      "image/png": "[encoded data removed]",
      "text/plain": [
       "<Figure size 864x576 with 10 Axes>"
      ]
     },
     "metadata": {
      "needs_background": "light"
     },
     "output_type": "display_data"
    }
   ],
   "source": [
    "from keras.datasets import mnist\n",
    "from keras.utils import to_categorical\n",
    "import matplotlib.pyplot as plt\n",
    "import numpy as np\n",
    "%matplotlib inline\n",
    "np.random.seed(1337)  # for reproducibility\n",
    "\n",
    "(x_train, y_train), (x_valid, y_valid) = mnist.load_data()\n",
    "x_train.reshape(-1, 28, 28) / 255.\n",
    "y_train = to_categorical(y_train, num_classes=10)\n",
    "x_valid.reshape(-1, 28, 28) / 255.\n",
    "y_valid = to_categorical(y_valid, num_classes=10)\n",
    "\n",
    "print(x_train.shape, y_train.shape, x_valid.shape, y_valid.shape)\n",
    "\n",
    "plt.figure(figsize=(12, 8))\n",
    "for i in range(10):\n",
    "    plt.subplot(2, 5, i+1)\n",
    "    plt.imshow(x_train[i], cmap='gray')\n",
    "    plt.title(np.argmax(y_train[i], axis=0))\n",
    "plt.show()"
   ]
  },
  {
   "cell_type": "code",
   "execution_count": 24,
   "metadata": {},
   "outputs": [],
   "source": [
    "TIME_STEPS = 28\n",
    "INPUT_SIZE = 28\n",
    "CELL_SIZE = 50"
   ]
  },
  {
   "cell_type": "code",
   "execution_count": 45,
   "metadata": {},
   "outputs": [
    {
     "name": "stderr",
     "output_type": "stream",
     "text": [
      "C:\\Users\\16957\\Miniconda3\\envs\\DataMining\\lib\\site-packages\\ipykernel_launcher.py:10: UserWarning: Update your `LSTM` call to the Keras 2 API: `LSTM(batch_input_shape=(None, 28,..., unroll=True, units=50)`\n",
      "  # Remove the CWD from sys.path while we load stuff.\n"
     ]
    },
    {
     "name": "stdout",
     "output_type": "stream",
     "text": [
      "_________________________________________________________________\n",
      "Layer (type)                 Output Shape              Param #   \n",
      "=================================================================\n",
      "lstm_1 (LSTM)                (None, 50)                15800     \n",
      "_________________________________________________________________\n",
      "dense_17 (Dense)             (None, 10)                510       \n",
      "_________________________________________________________________\n",
      "activation_13 (Activation)   (None, 10)                0         \n",
      "=================================================================\n",
      "Total params: 16,310\n",
      "Trainable params: 16,310\n",
      "Non-trainable params: 0\n",
      "_________________________________________________________________\n"
     ]
    }
   ],
   "source": [
    "from keras.layers import SimpleRNN, Activation, Dense, BatchNormalization, LSTM\n",
    "from keras.models import Sequential\n",
    "from keras.optimizers import Adam\n",
    "\n",
    "model = Sequential()\n",
    "\n",
    "model.add(LSTM(  # 使用keras封装的模块\n",
    "    batch_input_shape=(None, TIME_STEPS, INPUT_SIZE),  # 这里可以理解为一个图片28行数据一次送入一行（如果是动态步长，keras实现略显麻烦）\n",
    "    output_dim=CELL_SIZE,  # 输出为50\n",
    "    unroll=True,\n",
    "))\n",
    "\n",
    "model.add(Dense(10))  # 将50映射到10的空间中\n",
    "model.add(Activation('softmax'))  # 将打分使用softmax激活为概率\n",
    "\n",
    "adam = Adam(lr=0.001)\n",
    "model.compile(optimizer=adam,\n",
    "              loss='categorical_crossentropy',\n",
    "              metrics=['accuracy'])\n",
    "model.summary()"
   ]
  },
  {
   "cell_type": "code",
   "execution_count": 46,
   "metadata": {},
   "outputs": [
    {
     "name": "stdout",
     "output_type": "stream",
     "text": [
      "valid cost:  2.3888072967529297 valid accuracy:  0.07599999755620956\n",
      "valid cost:  0.7039034366607666 valid accuracy:  0.7657999992370605\n",
      "valid cost:  0.5678658485412598 valid accuracy:  0.809499979019165\n",
      "valid cost:  0.5081872940063477 valid accuracy:  0.829200029373169\n",
      "valid cost:  0.471362441778183 valid accuracy:  0.840399980545044\n",
      "valid cost:  0.4381416141986847 valid accuracy:  0.8553000092506409\n",
      "valid cost:  0.4083017408847809 valid accuracy:  0.8619999885559082\n",
      "valid cost:  0.39126166701316833 valid accuracy:  0.862500011920929\n",
      "valid cost:  0.36186912655830383 valid accuracy:  0.8779000043869019\n",
      "valid cost:  0.3686378598213196 valid accuracy:  0.8765000104904175\n"
     ]
    }
   ],
   "source": [
    "batch_index = 0\n",
    "batch_size = 50\n",
    "for step in range(5000):\n",
    "    # shape为(batch_num, steps, inputs/outputs)\n",
    "    x_batch = x_train[batch_index: batch_index+batch_size, :, :]  # 一次取64张图片\n",
    "    y_batch = y_train[batch_index: batch_index+batch_size, :]\n",
    "    loss = model.train_on_batch(x_batch, y_batch)\n",
    "    batch_index += batch_size\n",
    "    batch_index = 0 if batch_index >= x_train.shape[0] else batch_index  # 一旦取完了所有数据，batch索引清空\n",
    "\n",
    "    if step % 500 == 0:\n",
    "        cost, accuracy = model.evaluate(x_valid, y_valid, batch_size=y_valid.shape[0], verbose=False)  # 将测试数据全部送入\n",
    "        print('valid cost: ', cost, 'valid accuracy: ', accuracy)\n"
   ]
  }
 ],
 "metadata": {
  "kernelspec": {
   "display_name": "Python 3",
   "language": "python",
   "name": "python3"
  },
  "language_info": {
   "codemirror_mode": {
    "name": "ipython",
    "version": 3
   },
   "file_extension": ".py",
   "mimetype": "text/x-python",
   "name": "python",
   "nbconvert_exporter": "python",
   "pygments_lexer": "ipython3",
   "version": "3.6.8"
  }
 },
 "nbformat": 4,
 "nbformat_minor": 2
}
