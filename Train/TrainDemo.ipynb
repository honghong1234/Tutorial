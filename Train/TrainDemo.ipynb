{
  "nbformat": 4,
  "nbformat_minor": 0,
  "metadata": {
    "colab": {
      "name": "TrainDemo.ipynb",
      "version": "0.3.2",
      "provenance": [],
      "collapsed_sections": []
    },
    "kernelspec": {
      "name": "python3",
      "display_name": "Python 3"
    },
    "accelerator": "GPU"
  },
  "cells": [
    {
      "cell_type": "code",
      "metadata": {
        "id": "E3hQLWQ4T7QQ",
        "colab_type": "code",
        "colab": {}
      },
      "source": [
        "from fastai import *\n",
        "from fastai.vision import *  # CV方面的工具大部分在这个包下面\n",
        "from fastai.callbacks import *"
      ],
      "execution_count": 0,
      "outputs": []
    },
    {
      "cell_type": "code",
      "metadata": {
        "id": "69GZShSjdP3W",
        "colab_type": "code",
        "colab": {
          "base_uri": "https://localhost:8080/",
          "height": 440
        },
        "outputId": "b25c70e3-96d8-4cbc-d303-73d78511188a"
      },
      "source": [
        "mnist_path = untar_data(URLs.MNIST_SAMPLE)  # 从网络下载精简版数据集并保存本地，返回路径\n",
        "data = ImageDataBunch.from_folder(mnist_path)\n",
        "\n",
        "data.show_batch(ds_type=DatasetType.Train, rows=3, figsize=(6, 6))\n"
      ],
      "execution_count": 6,
      "outputs": [
        {
          "output_type": "display_data",
          "data": {
            "image/png": "[encoded data removed]",
            "text/plain": [
              "<Figure size 432x432 with 9 Axes>"
            ]
          },
          "metadata": {
            "tags": []
          }
        }
      ]
    },
    {
      "cell_type": "markdown",
      "metadata": {
        "id": "Wjjn_Wwho0vl",
        "colab_type": "text"
      },
      "source": [
        "# 简单Learner"
      ]
    },
    {
      "cell_type": "code",
      "metadata": {
        "id": "3QqZcUq9lzEt",
        "colab_type": "code",
        "colab": {}
      },
      "source": [
        "model = simple_cnn((3, 16, 16, 2))\n",
        "learner = Learner(data=data, model=model)\n"
      ],
      "execution_count": 0,
      "outputs": []
    },
    {
      "cell_type": "code",
      "metadata": {
        "id": "j3PUnvu2oE4M",
        "colab_type": "code",
        "colab": {
          "base_uri": "https://localhost:8080/",
          "height": 76
        },
        "outputId": "d243e2a6-7c5a-4d64-8466-3fc8d1297adf"
      },
      "source": [
        "learner.fit(1)"
      ],
      "execution_count": 9,
      "outputs": [
        {
          "output_type": "display_data",
          "data": {
            "text/html": [
              "<table border=\"1\" class=\"dataframe\">\n",
              "  <thead>\n",
              "    <tr style=\"text-align: left;\">\n",
              "      <th>epoch</th>\n",
              "      <th>train_loss</th>\n",
              "      <th>valid_loss</th>\n",
              "      <th>time</th>\n",
              "    </tr>\n",
              "  </thead>\n",
              "  <tbody>\n",
              "    <tr>\n",
              "      <td>0</td>\n",
              "      <td>0.137150</td>\n",
              "      <td>0.110711</td>\n",
              "      <td>00:06</td>\n",
              "    </tr>\n",
              "  </tbody>\n",
              "</table>"
            ],
            "text/plain": [
              "<IPython.core.display.HTML object>"
            ]
          },
          "metadata": {
            "tags": []
          }
        }
      ]
    },
    {
      "cell_type": "markdown",
      "metadata": {
        "id": "KzLRHJNIo5Z_",
        "colab_type": "text"
      },
      "source": [
        "# 添加复杂metric的Learner\n"
      ]
    },
    {
      "cell_type": "code",
      "metadata": {
        "id": "DN1WruW6pBic",
        "colab_type": "code",
        "colab": {
          "base_uri": "https://localhost:8080/",
          "height": 76
        },
        "outputId": "921f50ef-a1bf-47cc-9ef1-cf103cdbe1fc"
      },
      "source": [
        "model = simple_cnn((3, 16, 16, 2))\n",
        "learner = Learner(data=data, model=model, metrics=[accuracy, AUROC(), error_rate])\n",
        "learner.fit(1)"
      ],
      "execution_count": 14,
      "outputs": [
        {
          "output_type": "display_data",
          "data": {
            "text/html": [
              "<table border=\"1\" class=\"dataframe\">\n",
              "  <thead>\n",
              "    <tr style=\"text-align: left;\">\n",
              "      <th>epoch</th>\n",
              "      <th>train_loss</th>\n",
              "      <th>valid_loss</th>\n",
              "      <th>accuracy</th>\n",
              "      <th>auroc</th>\n",
              "      <th>error_rate</th>\n",
              "      <th>time</th>\n",
              "    </tr>\n",
              "  </thead>\n",
              "  <tbody>\n",
              "    <tr>\n",
              "      <td>0</td>\n",
              "      <td>0.117174</td>\n",
              "      <td>0.092379</td>\n",
              "      <td>0.969578</td>\n",
              "      <td>0.994372</td>\n",
              "      <td>0.030422</td>\n",
              "      <td>00:05</td>\n",
              "    </tr>\n",
              "  </tbody>\n",
              "</table>"
            ],
            "text/plain": [
              "<IPython.core.display.HTML object>"
            ]
          },
          "metadata": {
            "tags": []
          }
        }
      ]
    },
    {
      "cell_type": "markdown",
      "metadata": {
        "id": "j8YBi9otqmrg",
        "colab_type": "text"
      },
      "source": [
        "# 使用callback"
      ]
    },
    {
      "cell_type": "code",
      "metadata": {
        "id": "qM347WKnqqOl",
        "colab_type": "code",
        "colab": {
          "base_uri": "https://localhost:8080/",
          "height": 76
        },
        "outputId": "995f4572-84f7-4d4e-bacb-4cf7e73e0ebb"
      },
      "source": [
        "model = simple_cnn((3, 16, 16, 2))\n",
        "learner = Learner(data=data, model=model, metrics=[accuracy, AUROC(), error_rate])\n",
        "callback = OneCycleScheduler(learn=learner, lr_max=0.01)\n",
        "learner.fit(1, callbacks=callback)"
      ],
      "execution_count": 16,
      "outputs": [
        {
          "output_type": "display_data",
          "data": {
            "text/html": [
              "<table border=\"1\" class=\"dataframe\">\n",
              "  <thead>\n",
              "    <tr style=\"text-align: left;\">\n",
              "      <th>epoch</th>\n",
              "      <th>train_loss</th>\n",
              "      <th>valid_loss</th>\n",
              "      <th>accuracy</th>\n",
              "      <th>auroc</th>\n",
              "      <th>error_rate</th>\n",
              "      <th>time</th>\n",
              "    </tr>\n",
              "  </thead>\n",
              "  <tbody>\n",
              "    <tr>\n",
              "      <td>0</td>\n",
              "      <td>0.108612</td>\n",
              "      <td>0.087952</td>\n",
              "      <td>0.969087</td>\n",
              "      <td>0.994991</td>\n",
              "      <td>0.030913</td>\n",
              "      <td>00:05</td>\n",
              "    </tr>\n",
              "  </tbody>\n",
              "</table>"
            ],
            "text/plain": [
              "<IPython.core.display.HTML object>"
            ]
          },
          "metadata": {
            "tags": []
          }
        }
      ]
    },
    {
      "cell_type": "code",
      "metadata": {
        "id": "q7nHRq7iri9y",
        "colab_type": "code",
        "colab": {
          "base_uri": "https://localhost:8080/",
          "height": 549
        },
        "outputId": "34d7c149-475a-403f-d055-e4d27cc8daa5"
      },
      "source": [
        "# print(learner.recorder)\n",
        "learner.recorder.plot_lr()\n",
        "learner.recorder.plot_lr(show_moms=True)"
      ],
      "execution_count": 17,
      "outputs": [
        {
          "output_type": "display_data",
          "data": {
            "image/png": "[encoded data removed]",
            "text/plain": [
              "<Figure size 432x288 with 1 Axes>"
            ]
          },
          "metadata": {
            "tags": []
          }
        },
        {
          "output_type": "display_data",
          "data": {
            "image/png": "[encoded data removed]",
            "text/plain": [
              "<Figure size 864x288 with 2 Axes>"
            ]
          },
          "metadata": {
            "tags": []
          }
        }
      ]
    },
    {
      "cell_type": "code",
      "metadata": {
        "id": "HbxPRGCTtVaJ",
        "colab_type": "code",
        "colab": {
          "base_uri": "https://localhost:8080/",
          "height": 76
        },
        "outputId": "6e1d4a88-6602-46b4-d8a9-8455e1a0946a"
      },
      "source": [
        "model = simple_cnn((3, 16, 16, 2))\n",
        "learner = Learner(data=data, model=model, metrics=[accuracy, AUROC(), error_rate])\n",
        "learner.fit_one_cycle(1)"
      ],
      "execution_count": 18,
      "outputs": [
        {
          "output_type": "display_data",
          "data": {
            "text/html": [
              "<table border=\"1\" class=\"dataframe\">\n",
              "  <thead>\n",
              "    <tr style=\"text-align: left;\">\n",
              "      <th>epoch</th>\n",
              "      <th>train_loss</th>\n",
              "      <th>valid_loss</th>\n",
              "      <th>accuracy</th>\n",
              "      <th>auroc</th>\n",
              "      <th>error_rate</th>\n",
              "      <th>time</th>\n",
              "    </tr>\n",
              "  </thead>\n",
              "  <tbody>\n",
              "    <tr>\n",
              "      <td>0</td>\n",
              "      <td>0.145901</td>\n",
              "      <td>0.118628</td>\n",
              "      <td>0.958783</td>\n",
              "      <td>0.989888</td>\n",
              "      <td>0.041217</td>\n",
              "      <td>00:05</td>\n",
              "    </tr>\n",
              "  </tbody>\n",
              "</table>"
            ],
            "text/plain": [
              "<IPython.core.display.HTML object>"
            ]
          },
          "metadata": {
            "tags": []
          }
        }
      ]
    },
    {
      "cell_type": "code",
      "metadata": {
        "id": "ROyU9TD2ukiH",
        "colab_type": "code",
        "colab": {
          "base_uri": "https://localhost:8080/",
          "height": 112
        },
        "outputId": "460b305e-763d-4e93-932b-1d114fc6baa6"
      },
      "source": [
        "learner = cnn_learner(data, models.resnet18, metrics=[accuracy, AUROC(), error_rate])\n",
        "learner.fit_one_cycle(1)"
      ],
      "execution_count": 23,
      "outputs": [
        {
          "output_type": "stream",
          "text": [
            "Downloading: \"https://download.pytorch.org/models/resnet18-5c106cde.pth\" to /root/.cache/torch/checkpoints/resnet18-5c106cde.pth\n",
            "100%|██████████| 46827520/46827520 [00:00<00:00, 107133056.88it/s]\n"
          ],
          "name": "stderr"
        },
        {
          "output_type": "display_data",
          "data": {
            "text/html": [
              "<table border=\"1\" class=\"dataframe\">\n",
              "  <thead>\n",
              "    <tr style=\"text-align: left;\">\n",
              "      <th>epoch</th>\n",
              "      <th>train_loss</th>\n",
              "      <th>valid_loss</th>\n",
              "      <th>accuracy</th>\n",
              "      <th>auroc</th>\n",
              "      <th>error_rate</th>\n",
              "      <th>time</th>\n",
              "    </tr>\n",
              "  </thead>\n",
              "  <tbody>\n",
              "    <tr>\n",
              "      <td>0</td>\n",
              "      <td>0.172487</td>\n",
              "      <td>0.123684</td>\n",
              "      <td>0.956820</td>\n",
              "      <td>0.990360</td>\n",
              "      <td>0.043180</td>\n",
              "      <td>00:08</td>\n",
              "    </tr>\n",
              "  </tbody>\n",
              "</table>"
            ],
            "text/plain": [
              "<IPython.core.display.HTML object>"
            ]
          },
          "metadata": {
            "tags": []
          }
        }
      ]
    }
  ]
}