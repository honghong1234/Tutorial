{
  "nbformat": 4,
  "nbformat_minor": 0,
  "metadata": {
    "colab": {
      "name": "ClassificationDemo.ipynb",
      "version": "0.3.2",
      "provenance": [],
      "collapsed_sections": []
    },
    "kernelspec": {
      "name": "python3",
      "display_name": "Python 3"
    },
    "accelerator": "GPU"
  },
  "cells": [
    {
      "cell_type": "code",
      "metadata": {
        "id": "AYdgSg4Bvvbq",
        "colab_type": "code",
        "colab": {}
      },
      "source": [
        "import fastai\n",
        "from fastai import *  # 导入子包是个不错的习惯\n",
        "from fastai.vision import *  # 很多视觉模块的包"
      ],
      "execution_count": 0,
      "outputs": []
    },
    {
      "cell_type": "code",
      "metadata": {
        "colab_type": "code",
        "outputId": "5918ac9c-119a-49eb-a8aa-aab1f1cbc92d",
        "id": "v0wkAhikLICC",
        "colab": {
          "base_uri": "https://localhost:8080/",
          "height": 35
        }
      },
      "source": [
        "# 导入数据集\n",
        "mnist = untar_data(URLs.MNIST_TINY)  # 解压数据集并返回存放路径\n",
        "transform = get_transforms(do_flip=False)  # 得到一个翻转的转化器\n",
        "\n",
        "data = (ImageList.from_folder(mnist)  # 从目录读取\n",
        "        .split_by_folder()  # 按照目录结构切分          \n",
        "        .label_from_folder()  # 读取label\n",
        "        .add_test_folder('test')  # 增加test目录\n",
        "        .transform(transform, size=32)  # 使用创建的转换器\n",
        "        .databunch()  # bunch化\n",
        "        .normalize(imagenet_stats))  # 按照imagenet标准归一\n",
        "print(type(data))"
      ],
      "execution_count": 0,
      "outputs": [
        {
          "output_type": "stream",
          "text": [
            "<class 'fastai.vision.data.ImageDataBunch'>\n"
          ],
          "name": "stdout"
        }
      ]
    },
    {
      "cell_type": "code",
      "metadata": {
        "id": "X3iYh3ndMobp",
        "colab_type": "code",
        "colab": {
          "base_uri": "https://localhost:8080/",
          "height": 369
        },
        "outputId": "6e5a290b-ccaa-4f5a-8cf6-e79ad93e9442"
      },
      "source": [
        "# 可视化数据\n",
        "# data.show_batch()  # 使用这种显示方法可能会溢出屏幕\n",
        "data.show_batch(rows=2, figsize=(5, 5))"
      ],
      "execution_count": 14,
      "outputs": [
        {
          "output_type": "display_data",
          "data": {
            "image/png": "[encoded data removed]",
            "text/plain": [
              "<Figure size 360x360 with 4 Axes>"
            ]
          },
          "metadata": {
            "tags": []
          }
        }
      ]
    },
    {
      "cell_type": "code",
      "metadata": {
        "id": "uNNrY_2MLI6B",
        "colab_type": "code",
        "colab": {
          "base_uri": "https://localhost:8080/",
          "height": 491
        },
        "outputId": "fe43015a-4976-43c0-ede7-42b5a31d7f4d"
      },
      "source": [
        "# 创建模型\n",
        "learn = cnn_learner(data, models.resnet18, metrics=accuracy)  # 创建模型，使用预训练模型\n",
        "learn.fit(epochs=15, lr=0.01)\n",
        "learn.save('mnist_train')"
      ],
      "execution_count": 13,
      "outputs": [
        {
          "output_type": "display_data",
          "data": {
            "text/html": [
              "<table border=\"1\" class=\"dataframe\">\n",
              "  <thead>\n",
              "    <tr style=\"text-align: left;\">\n",
              "      <th>epoch</th>\n",
              "      <th>train_loss</th>\n",
              "      <th>valid_loss</th>\n",
              "      <th>accuracy</th>\n",
              "      <th>time</th>\n",
              "    </tr>\n",
              "  </thead>\n",
              "  <tbody>\n",
              "    <tr>\n",
              "      <td>0</td>\n",
              "      <td>0.416528</td>\n",
              "      <td>0.151459</td>\n",
              "      <td>0.941345</td>\n",
              "      <td>00:01</td>\n",
              "    </tr>\n",
              "    <tr>\n",
              "      <td>1</td>\n",
              "      <td>0.250558</td>\n",
              "      <td>0.027465</td>\n",
              "      <td>0.987124</td>\n",
              "      <td>00:01</td>\n",
              "    </tr>\n",
              "    <tr>\n",
              "      <td>2</td>\n",
              "      <td>0.177372</td>\n",
              "      <td>0.045108</td>\n",
              "      <td>0.982833</td>\n",
              "      <td>00:01</td>\n",
              "    </tr>\n",
              "    <tr>\n",
              "      <td>3</td>\n",
              "      <td>0.144727</td>\n",
              "      <td>0.031127</td>\n",
              "      <td>0.992847</td>\n",
              "      <td>00:01</td>\n",
              "    </tr>\n",
              "    <tr>\n",
              "      <td>4</td>\n",
              "      <td>0.122623</td>\n",
              "      <td>0.036310</td>\n",
              "      <td>0.988555</td>\n",
              "      <td>00:01</td>\n",
              "    </tr>\n",
              "    <tr>\n",
              "      <td>5</td>\n",
              "      <td>0.119397</td>\n",
              "      <td>0.038653</td>\n",
              "      <td>0.988555</td>\n",
              "      <td>00:01</td>\n",
              "    </tr>\n",
              "    <tr>\n",
              "      <td>6</td>\n",
              "      <td>0.109966</td>\n",
              "      <td>0.019811</td>\n",
              "      <td>0.994278</td>\n",
              "      <td>00:01</td>\n",
              "    </tr>\n",
              "    <tr>\n",
              "      <td>7</td>\n",
              "      <td>0.090671</td>\n",
              "      <td>0.018985</td>\n",
              "      <td>0.994278</td>\n",
              "      <td>00:01</td>\n",
              "    </tr>\n",
              "    <tr>\n",
              "      <td>8</td>\n",
              "      <td>0.073377</td>\n",
              "      <td>0.012358</td>\n",
              "      <td>0.995708</td>\n",
              "      <td>00:01</td>\n",
              "    </tr>\n",
              "    <tr>\n",
              "      <td>9</td>\n",
              "      <td>0.061980</td>\n",
              "      <td>0.037566</td>\n",
              "      <td>0.989986</td>\n",
              "      <td>00:01</td>\n",
              "    </tr>\n",
              "    <tr>\n",
              "      <td>10</td>\n",
              "      <td>0.061756</td>\n",
              "      <td>0.007957</td>\n",
              "      <td>0.997139</td>\n",
              "      <td>00:01</td>\n",
              "    </tr>\n",
              "    <tr>\n",
              "      <td>11</td>\n",
              "      <td>0.055052</td>\n",
              "      <td>0.005549</td>\n",
              "      <td>0.998569</td>\n",
              "      <td>00:01</td>\n",
              "    </tr>\n",
              "    <tr>\n",
              "      <td>12</td>\n",
              "      <td>0.056593</td>\n",
              "      <td>0.005518</td>\n",
              "      <td>0.997139</td>\n",
              "      <td>00:01</td>\n",
              "    </tr>\n",
              "    <tr>\n",
              "      <td>13</td>\n",
              "      <td>0.050588</td>\n",
              "      <td>0.015500</td>\n",
              "      <td>0.992847</td>\n",
              "      <td>00:01</td>\n",
              "    </tr>\n",
              "    <tr>\n",
              "      <td>14</td>\n",
              "      <td>0.050633</td>\n",
              "      <td>0.026739</td>\n",
              "      <td>0.989986</td>\n",
              "      <td>00:01</td>\n",
              "    </tr>\n",
              "  </tbody>\n",
              "</table>"
            ],
            "text/plain": [
              "<IPython.core.display.HTML object>"
            ]
          },
          "metadata": {
            "tags": []
          }
        }
      ]
    },
    {
      "cell_type": "code",
      "metadata": {
        "id": "IOv1WuB4PMjy",
        "colab_type": "code",
        "colab": {
          "base_uri": "https://localhost:8080/",
          "height": 653
        },
        "outputId": "a151446e-1cff-487d-9a64-a8507212c9d1"
      },
      "source": [
        "# learn.show_results()  # 这样显示屏幕也可能溢出\n",
        "learn.show_results(ds_type=DatasetType.Train, rows=4, figsize=(8,10))  # 这里指定数据分布类型为Train这样就不会显示有序数据而是打乱显示"
      ],
      "execution_count": 19,
      "outputs": [
        {
          "output_type": "display_data",
          "data": {
            "image/png": "[encoded data removed]",
            "text/plain": [
              "<Figure size 576x720 with 16 Axes>"
            ]
          },
          "metadata": {
            "tags": []
          }
        }
      ]
    }
  ]
}