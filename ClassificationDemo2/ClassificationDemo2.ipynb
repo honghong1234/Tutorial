{
  "nbformat": 4,
  "nbformat_minor": 0,
  "metadata": {
    "colab": {
      "name": "ClassificationDemo2.ipynb",
      "version": "0.3.2",
      "provenance": [],
      "collapsed_sections": []
    },
    "kernelspec": {
      "name": "python3",
      "display_name": "Python 3"
    },
    "accelerator": "GPU"
  },
  "cells": [
    {
      "cell_type": "code",
      "metadata": {
        "id": "fjpKoLl_VEXr",
        "colab_type": "code",
        "colab": {}
      },
      "source": [
        "import fastai\n",
        "from fastai import *\n",
        "from fastai.vision import *  # 这里存放大部分关于CV的模块\n"
      ],
      "execution_count": 0,
      "outputs": []
    },
    {
      "cell_type": "code",
      "metadata": {
        "id": "9cNqAlXoVe5h",
        "colab_type": "code",
        "colab": {
          "base_uri": "https://localhost:8080/",
          "height": 297
        },
        "outputId": "3bcfd4ef-619c-4c17-803a-87cbcbbe44e2"
      },
      "source": [
        "mnist = untar_data(URLs.MNIST_TINY)  # 该模块下载数据集到本地目录并返回路径\n",
        "tfms = get_transforms(do_flip=False)  # 创建转换器但是不进行翻转（注意不是所有数据集都适合任何模式的增广，对手写数字，翻转意味着变为另一个数字）\n",
        "# 利用ImageList从本地路径读入标准格式存放数据的数据集\n",
        "data = (ImageList.from_folder(mnist)\n",
        "        .split_by_folder()  # 按照数据集格式划分训练集测试集\n",
        "        .label_from_folder()  # 从数据集路径获取标签\n",
        "        .add_test_folder('test')  # 创建test目录\n",
        "        .transform(tfms, size=32)  # 利用构建的转换器的得到处理后的图片数据，大小调整为32*32\n",
        "        .databunch()  # 转为ImageDataBunch对象\n",
        "        .normalize(imagenet_stats))  # 使用imagenet标准规范化数据\n",
        "\n",
        "data.show_batch(rows=2, figsize=(4, 4))"
      ],
      "execution_count": 11,
      "outputs": [
        {
          "output_type": "display_data",
          "data": {
            "image/png": "[encoded data removed]",
            "text/plain": [
              "<Figure size 288x288 with 4 Axes>"
            ]
          },
          "metadata": {
            "tags": []
          }
        }
      ]
    },
    {
      "cell_type": "code",
      "metadata": {
        "id": "6CjMlEBLW9uy",
        "colab_type": "code",
        "colab": {
          "base_uri": "https://localhost:8080/",
          "height": 53
        },
        "outputId": "fc9e4a22-e558-45c3-ec47-75fb30fdeaea"
      },
      "source": [
        "model = cnn_learner(data, models.resnet18, metrics=accuracy)"
      ],
      "execution_count": 12,
      "outputs": [
        {
          "output_type": "stream",
          "text": [
            "Downloading: \"https://download.pytorch.org/models/resnet18-5c106cde.pth\" to /root/.cache/torch/checkpoints/resnet18-5c106cde.pth\n",
            "100%|██████████| 46827520/46827520 [00:00<00:00, 84138274.61it/s]\n"
          ],
          "name": "stderr"
        }
      ]
    },
    {
      "cell_type": "code",
      "metadata": {
        "id": "4VmPvHOOaqSU",
        "colab_type": "code",
        "colab": {
          "base_uri": "https://localhost:8080/",
          "height": 343
        },
        "outputId": "320e06a1-96b0-4a28-c4e5-90e2e34cabb1"
      },
      "source": [
        "model.fit(epochs=10, lr=1e-3)"
      ],
      "execution_count": 13,
      "outputs": [
        {
          "output_type": "display_data",
          "data": {
            "text/html": [
              "<table border=\"1\" class=\"dataframe\">\n",
              "  <thead>\n",
              "    <tr style=\"text-align: left;\">\n",
              "      <th>epoch</th>\n",
              "      <th>train_loss</th>\n",
              "      <th>valid_loss</th>\n",
              "      <th>accuracy</th>\n",
              "      <th>time</th>\n",
              "    </tr>\n",
              "  </thead>\n",
              "  <tbody>\n",
              "    <tr>\n",
              "      <td>0</td>\n",
              "      <td>0.579587</td>\n",
              "      <td>0.381521</td>\n",
              "      <td>0.918455</td>\n",
              "      <td>00:01</td>\n",
              "    </tr>\n",
              "    <tr>\n",
              "      <td>1</td>\n",
              "      <td>0.430785</td>\n",
              "      <td>0.321331</td>\n",
              "      <td>0.856938</td>\n",
              "      <td>00:01</td>\n",
              "    </tr>\n",
              "    <tr>\n",
              "      <td>2</td>\n",
              "      <td>0.345751</td>\n",
              "      <td>0.216156</td>\n",
              "      <td>0.922747</td>\n",
              "      <td>00:01</td>\n",
              "    </tr>\n",
              "    <tr>\n",
              "      <td>3</td>\n",
              "      <td>0.296118</td>\n",
              "      <td>0.161419</td>\n",
              "      <td>0.942775</td>\n",
              "      <td>00:01</td>\n",
              "    </tr>\n",
              "    <tr>\n",
              "      <td>4</td>\n",
              "      <td>0.249428</td>\n",
              "      <td>0.129882</td>\n",
              "      <td>0.957082</td>\n",
              "      <td>00:01</td>\n",
              "    </tr>\n",
              "    <tr>\n",
              "      <td>5</td>\n",
              "      <td>0.215657</td>\n",
              "      <td>0.124145</td>\n",
              "      <td>0.958512</td>\n",
              "      <td>00:01</td>\n",
              "    </tr>\n",
              "    <tr>\n",
              "      <td>6</td>\n",
              "      <td>0.188661</td>\n",
              "      <td>0.110216</td>\n",
              "      <td>0.967096</td>\n",
              "      <td>00:01</td>\n",
              "    </tr>\n",
              "    <tr>\n",
              "      <td>7</td>\n",
              "      <td>0.169607</td>\n",
              "      <td>0.094019</td>\n",
              "      <td>0.965665</td>\n",
              "      <td>00:02</td>\n",
              "    </tr>\n",
              "    <tr>\n",
              "      <td>8</td>\n",
              "      <td>0.151634</td>\n",
              "      <td>0.088576</td>\n",
              "      <td>0.969957</td>\n",
              "      <td>00:02</td>\n",
              "    </tr>\n",
              "    <tr>\n",
              "      <td>9</td>\n",
              "      <td>0.142129</td>\n",
              "      <td>0.075222</td>\n",
              "      <td>0.977110</td>\n",
              "      <td>00:01</td>\n",
              "    </tr>\n",
              "  </tbody>\n",
              "</table>"
            ],
            "text/plain": [
              "<IPython.core.display.HTML object>"
            ]
          },
          "metadata": {
            "tags": []
          }
        }
      ]
    },
    {
      "cell_type": "code",
      "metadata": {
        "id": "SrqcE74ybVO-",
        "colab_type": "code",
        "colab": {}
      },
      "source": [
        "model.export()"
      ],
      "execution_count": 0,
      "outputs": []
    },
    {
      "cell_type": "code",
      "metadata": {
        "id": "fuy2oWDpbYa5",
        "colab_type": "code",
        "colab": {
          "base_uri": "https://localhost:8080/",
          "height": 35
        },
        "outputId": "43d3a8fd-7e17-45d5-b2a2-425d9f438f0a"
      },
      "source": [
        "print(model.path)"
      ],
      "execution_count": 17,
      "outputs": [
        {
          "output_type": "stream",
          "text": [
            "/root/.fastai/data/mnist_tiny\n"
          ],
          "name": "stdout"
        }
      ]
    },
    {
      "cell_type": "code",
      "metadata": {
        "id": "O9jzmgK2b50j",
        "colab_type": "code",
        "colab": {
          "base_uri": "https://localhost:8080/",
          "height": 35
        },
        "outputId": "21605d65-3a89-4547-d807-c977a0b6126c"
      },
      "source": [
        "!ls /root/.fastai/data/mnist_tiny"
      ],
      "execution_count": 18,
      "outputs": [
        {
          "output_type": "stream",
          "text": [
            "export.pkl  labels.csv\tmodels\ttest  train  valid\n"
          ],
          "name": "stdout"
        }
      ]
    },
    {
      "cell_type": "code",
      "metadata": {
        "id": "H_zHkzY9ck_o",
        "colab_type": "code",
        "colab": {}
      },
      "source": [
        "learner = load_learner(mnist)  # or learner = load_learner(model.path)"
      ],
      "execution_count": 0,
      "outputs": []
    },
    {
      "cell_type": "code",
      "metadata": {
        "id": "98Qu-7hAc0iM",
        "colab_type": "code",
        "colab": {
          "base_uri": "https://localhost:8080/",
          "height": 53
        },
        "outputId": "c6586fc2-a2aa-4ad8-9f7c-8c741ac500ab"
      },
      "source": [
        "img = data.train_ds[0][0]\n",
        "print(model.predict(img))\n",
        "print(learner.predict(img))"
      ],
      "execution_count": 20,
      "outputs": [
        {
          "output_type": "stream",
          "text": [
            "(Category 3, tensor(0), tensor([0.9973, 0.0027]))\n",
            "(Category 3, tensor(0), tensor([0.9973, 0.0027]))\n"
          ],
          "name": "stdout"
        }
      ]
    },
    {
      "cell_type": "code",
      "metadata": {
        "id": "PwFiaqyTdfcp",
        "colab_type": "code",
        "colab": {
          "base_uri": "https://localhost:8080/",
          "height": 53
        },
        "outputId": "8004f4c4-9946-4baf-a183-15741bb4495f"
      },
      "source": [
        "print(model.predict(data.train_ds[0][0]))\n",
        "print(model.predict(data.train_ds[1][0]))"
      ],
      "execution_count": 26,
      "outputs": [
        {
          "output_type": "stream",
          "text": [
            "(Category 3, tensor(0), tensor([9.9990e-01, 9.5128e-05]))\n",
            "(Category 3, tensor(0), tensor([0.9969, 0.0031]))\n"
          ],
          "name": "stdout"
        }
      ]
    },
    {
      "cell_type": "code",
      "metadata": {
        "id": "eC5OdJX1gLhz",
        "colab_type": "code",
        "colab": {
          "base_uri": "https://localhost:8080/",
          "height": 214
        },
        "outputId": "860afbed-704a-47ed-d503-7a3842d7f0f0"
      },
      "source": [
        "# 载入模型，指定测试数据\n",
        "learner = load_learner(mnist, test=ImageList.from_folder(mnist/'test'))\n",
        "preds, y = learner.get_preds(ds_type=DatasetType.Test)  # 指定数据集类型为测试集\n",
        "print(preds[:10])\n",
        "print(y[:10])"
      ],
      "execution_count": 34,
      "outputs": [
        {
          "output_type": "stream",
          "text": [
            "tensor([[9.9961e-01, 3.8995e-04],\n",
            "        [9.9949e-01, 5.1475e-04],\n",
            "        [8.4154e-03, 9.9158e-01],\n",
            "        [2.9301e-04, 9.9971e-01],\n",
            "        [1.6162e-05, 9.9998e-01],\n",
            "        [9.9521e-01, 4.7919e-03],\n",
            "        [9.9986e-01, 1.3508e-04],\n",
            "        [4.2680e-03, 9.9573e-01],\n",
            "        [9.7741e-01, 2.2594e-02],\n",
            "        [9.9981e-01, 1.9486e-04]])\n",
            "tensor([0, 0, 0, 0, 0, 0, 0, 0, 0, 0])\n"
          ],
          "name": "stdout"
        }
      ]
    }
  ]
}